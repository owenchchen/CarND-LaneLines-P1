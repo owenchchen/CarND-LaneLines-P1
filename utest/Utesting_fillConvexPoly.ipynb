{
 "cells": [
  {
   "cell_type": "code",
   "execution_count": 45,
   "metadata": {},
   "outputs": [],
   "source": [
    "import matplotlib.pyplot as plt\n",
    "import numpy as np\n",
    "import cv2"
   ]
  },
  {
   "cell_type": "code",
   "execution_count": 66,
   "metadata": {
    "scrolled": true
   },
   "outputs": [
    {
     "name": "stdout",
     "output_type": "stream",
     "text": [
      "(540, 960, 3)\n",
      "3\n",
      "(255, 255, 255)\n"
     ]
    },
    {
     "data": {
      "image/png": "[encoded data removed]",
      "text/plain": [
       "<Figure size 432x288 with 1 Axes>"
      ]
     },
     "metadata": {
      "needs_background": "light"
     },
     "output_type": "display_data"
    },
    {
     "data": {
      "image/png": "[encoded data removed]",
      "text/plain": [
       "<Figure size 432x288 with 1 Axes>"
      ]
     },
     "metadata": {
      "needs_background": "light"
     },
     "output_type": "display_data"
    }
   ],
   "source": [
    "#defining a blank mask to start with\n",
    "img = np.zeros((540, 960, 3), np.uint8)\n",
    "mask = np.zeros_like(img)   \n",
    "vertices = np.array([[(460,310),(500, 310), (900, 540), (60, 540)]], dtype=np.int32)    \n",
    "\n",
    "print(img.shape)\n",
    "print(len(img.shape))\n",
    "\n",
    "    \n",
    "#defining a 3 channel or 1 channel color to fill the mask with depending on the input image\n",
    "if len(img.shape) > 2:\n",
    "   channel_count = img.shape[2]  # i.e. 3 or 4 depending on your image\n",
    "   ignore_mask_color = (255,) * channel_count\n",
    "else:\n",
    "   ignore_mask_color = 255\n",
    "print(ignore_mask_color)\n",
    "        \n",
    "#filling pixels inside the polygon defined by \"vertices\" with the fill color    \n",
    "# cv2.fillPoly(input_image, polygon_area, 255)\n",
    "cv2.fillPoly(mask, vertices, ignore_mask_color)\n",
    "\n",
    "plt.imshow(img)\n",
    "plt.show()\n",
    "\n",
    "plt.imshow(mask)\n",
    "plt.show()"
   ]
  }
 ],
 "metadata": {
  "kernelspec": {
   "display_name": "Python 3",
   "language": "python",
   "name": "python3"
  },
  "language_info": {
   "codemirror_mode": {
    "name": "ipython",
    "version": 3
   },
   "file_extension": ".py",
   "mimetype": "text/x-python",
   "name": "python",
   "nbconvert_exporter": "python",
   "pygments_lexer": "ipython3",
   "version": "3.6.9"
  }
 },
 "nbformat": 4,
 "nbformat_minor": 4
}
